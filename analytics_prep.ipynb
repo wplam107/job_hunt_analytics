{
 "metadata": {
  "language_info": {
   "codemirror_mode": {
    "name": "ipython",
    "version": 3
   },
   "file_extension": ".py",
   "mimetype": "text/x-python",
   "name": "python",
   "nbconvert_exporter": "python",
   "pygments_lexer": "ipython3",
   "version": "3.9.1"
  },
  "orig_nbformat": 4,
  "kernelspec": {
   "name": "eda_env",
   "display_name": "Python 3.9.1 64-bit ('eda_env': conda)"
  }
 },
 "nbformat": 4,
 "nbformat_minor": 2,
 "cells": [
  {
   "source": [
    "# Notebook for Dashboard Analytics"
   ],
   "cell_type": "markdown",
   "metadata": {}
  },
  {
   "cell_type": "code",
   "execution_count": 6,
   "metadata": {},
   "outputs": [],
   "source": [
    "import psycopg2\n",
    "import pandas as pd\n",
    "from configparser import ConfigParser"
   ]
  },
  {
   "cell_type": "code",
   "execution_count": 2,
   "metadata": {},
   "outputs": [],
   "source": [
    "config = ConfigParser(interpolation=None)\n",
    "config.read('./.ini')\n",
    "DBNAME = config.get('postgres', 'DBNAME')\n",
    "USER = config.get('postgres', 'USER')\n",
    "PASSWORD = config.get('postgres', 'PASSWORD')\n",
    "HOST = config.get('postgres', 'HOST')\n",
    "PORT = config.get('postgres', 'PORT')"
   ]
  },
  {
   "cell_type": "code",
   "execution_count": 3,
   "metadata": {},
   "outputs": [],
   "source": [
    "conn = psycopg2.connect(\n",
    "    host=HOST,\n",
    "    database=DBNAME,\n",
    "    user=USER,\n",
    "    password=PASSWORD\n",
    ")"
   ]
  },
  {
   "cell_type": "code",
   "execution_count": 4,
   "metadata": {},
   "outputs": [],
   "source": [
    "cur = conn.cursor()"
   ]
  },
  {
   "cell_type": "code",
   "execution_count": 5,
   "metadata": {},
   "outputs": [],
   "source": [
    "# Get columns in table\n",
    "cur.execute(\n",
    "    \"\"\"\n",
    "    SELECT column_name\n",
    "    FROM information_schema.columns \n",
    "    WHERE table_schema = 'public' \n",
    "    AND table_name = 'jobs_job'\n",
    "    ;\n",
    "    \"\"\"\n",
    ")\n",
    "result = cur.fetchall()\n",
    "cols = [ r[0] for r in result ]"
   ]
  },
  {
   "cell_type": "code",
   "execution_count": 7,
   "metadata": {},
   "outputs": [],
   "source": [
    "# Get job application data\n",
    "cur.execute(\n",
    "    \"\"\"\n",
    "    SELECT *\n",
    "    FROM jobs_job\n",
    "    ;\n",
    "    \"\"\"\n",
    ")\n",
    "result = cur.fetchall()"
   ]
  },
  {
   "cell_type": "code",
   "execution_count": 8,
   "metadata": {},
   "outputs": [],
   "source": [
    "df = pd.DataFrame(result, columns=cols)"
   ]
  },
  {
   "cell_type": "code",
   "execution_count": 10,
   "metadata": {},
   "outputs": [
    {
     "output_type": "execute_result",
     "data": {
      "text/plain": [
       "   id                     company      job_title job_level  min_years  \\\n",
       "0   3  Open Road Integrated Media  Data Engineer         I          0   \n",
       "1   4                       Rhino  Data Engineer         E          0   \n",
       "2   5                     Radancy  Data Engineer         E          0   \n",
       "\n",
       "  date_posted date_applied cover_letter response response_date  \n",
       "0  2021-04-25   2021-05-25          Yes        N          None  \n",
       "1  2021-05-28   2021-06-04          Yes        N          None  \n",
       "2  2021-05-28   2021-06-04           No        N          None  "
      ],
      "text/html": "<div>\n<style scoped>\n    .dataframe tbody tr th:only-of-type {\n        vertical-align: middle;\n    }\n\n    .dataframe tbody tr th {\n        vertical-align: top;\n    }\n\n    .dataframe thead th {\n        text-align: right;\n    }\n</style>\n<table border=\"1\" class=\"dataframe\">\n  <thead>\n    <tr style=\"text-align: right;\">\n      <th></th>\n      <th>id</th>\n      <th>company</th>\n      <th>job_title</th>\n      <th>job_level</th>\n      <th>min_years</th>\n      <th>date_posted</th>\n      <th>date_applied</th>\n      <th>cover_letter</th>\n      <th>response</th>\n      <th>response_date</th>\n    </tr>\n  </thead>\n  <tbody>\n    <tr>\n      <th>0</th>\n      <td>3</td>\n      <td>Open Road Integrated Media</td>\n      <td>Data Engineer</td>\n      <td>I</td>\n      <td>0</td>\n      <td>2021-04-25</td>\n      <td>2021-05-25</td>\n      <td>Yes</td>\n      <td>N</td>\n      <td>None</td>\n    </tr>\n    <tr>\n      <th>1</th>\n      <td>4</td>\n      <td>Rhino</td>\n      <td>Data Engineer</td>\n      <td>E</td>\n      <td>0</td>\n      <td>2021-05-28</td>\n      <td>2021-06-04</td>\n      <td>Yes</td>\n      <td>N</td>\n      <td>None</td>\n    </tr>\n    <tr>\n      <th>2</th>\n      <td>5</td>\n      <td>Radancy</td>\n      <td>Data Engineer</td>\n      <td>E</td>\n      <td>0</td>\n      <td>2021-05-28</td>\n      <td>2021-06-04</td>\n      <td>No</td>\n      <td>N</td>\n      <td>None</td>\n    </tr>\n  </tbody>\n</table>\n</div>"
     },
     "metadata": {},
     "execution_count": 10
    }
   ],
   "source": [
    "df.head(3)"
   ]
  },
  {
   "cell_type": "code",
   "execution_count": null,
   "metadata": {},
   "outputs": [],
   "source": []
  }
 ]
}